{
  "nbformat": 4,
  "nbformat_minor": 0,
  "metadata": {
    "colab": {
      "provenance": []
    },
    "kernelspec": {
      "name": "python3",
      "display_name": "Python 3"
    },
    "language_info": {
      "name": "python"
    }
  },
  "cells": [
    {
      "cell_type": "code",
      "execution_count": 6,
      "metadata": {
        "id": "0Xi0TxZYfulJ"
      },
      "outputs": [],
      "source": [
        "# STRING IN PYTHON\n",
        "\n",
        "#1. identification = '', \"\", ''' '''\n",
        "#2. immutable data type ===o> we cannot change or update values at a run time\n",
        "#3. indexing start from 0 and length start from 1.\n"
      ]
    },
    {
      "cell_type": "code",
      "source": [
        "a = \"sakshi\"\n",
        "type(a)"
      ],
      "metadata": {
        "colab": {
          "base_uri": "https://localhost:8080/"
        },
        "id": "NrCNQjmJgQzB",
        "outputId": "2027f357-a7f3-4fa6-bc2b-eec5c8edcc36"
      },
      "execution_count": 2,
      "outputs": [
        {
          "output_type": "execute_result",
          "data": {
            "text/plain": [
              "str"
            ]
          },
          "metadata": {},
          "execution_count": 2
        }
      ]
    },
    {
      "cell_type": "code",
      "source": [
        "#loop in string\n",
        "for i in a:\n",
        "  print(i)"
      ],
      "metadata": {
        "colab": {
          "base_uri": "https://localhost:8080/"
        },
        "id": "laEyqXoDgXij",
        "outputId": "24625de2-dec5-4fff-dbcb-67c2350968b3"
      },
      "execution_count": 3,
      "outputs": [
        {
          "output_type": "stream",
          "name": "stdout",
          "text": [
            "s\n",
            "a\n",
            "k\n",
            "s\n",
            "h\n",
            "i\n"
          ]
        }
      ]
    },
    {
      "cell_type": "code",
      "source": [
        "for i in range(len(a)):\n",
        "  print(a[i])"
      ],
      "metadata": {
        "colab": {
          "base_uri": "https://localhost:8080/"
        },
        "id": "cNKj1FlFgi8Z",
        "outputId": "2e0c63aa-e3b8-4950-8f0f-f3ec7c53d5ad"
      },
      "execution_count": 4,
      "outputs": [
        {
          "output_type": "stream",
          "name": "stdout",
          "text": [
            "s\n",
            "a\n",
            "k\n",
            "s\n",
            "h\n",
            "i\n"
          ]
        }
      ]
    },
    {
      "cell_type": "code",
      "source": [
        "#propeties of string\n",
        "#(1). concatenation\n",
        "a = '12' + '34'\n",
        "a"
      ],
      "metadata": {
        "colab": {
          "base_uri": "https://localhost:8080/",
          "height": 35
        },
        "id": "i9WwWOrXgps_",
        "outputId": "e34fab22-2f28-4a3c-ffc5-b7513b7d00ac"
      },
      "execution_count": 5,
      "outputs": [
        {
          "output_type": "execute_result",
          "data": {
            "text/plain": [
              "'1234'"
            ],
            "application/vnd.google.colaboratory.intrinsic+json": {
              "type": "string"
            }
          },
          "metadata": {},
          "execution_count": 5
        }
      ]
    },
    {
      "cell_type": "code",
      "source": [
        "#(2). replication\n",
        "a = '12' * 3\n",
        "a"
      ],
      "metadata": {
        "colab": {
          "base_uri": "https://localhost:8080/",
          "height": 35
        },
        "id": "sufIBlKeg6i5",
        "outputId": "f406ed6a-a312-4a5b-b3b5-cebea53f27ea"
      },
      "execution_count": 7,
      "outputs": [
        {
          "output_type": "execute_result",
          "data": {
            "text/plain": [
              "'121212'"
            ],
            "application/vnd.google.colaboratory.intrinsic+json": {
              "type": "string"
            }
          },
          "metadata": {},
          "execution_count": 7
        }
      ]
    },
    {
      "cell_type": "code",
      "source": [
        "#(3). slicing in string\n",
        "\n",
        "a = \"Python\"\n",
        "print(a[0])   ## forward indexing\n",
        "print(a[1])\n",
        "print(a[2])\n",
        "\n",
        "print(a[-1])   ## reverse/backward indexing\n",
        "print(a[-2])\n",
        "print(a[-3])"
      ],
      "metadata": {
        "colab": {
          "base_uri": "https://localhost:8080/"
        },
        "id": "cCJLRBBkhQEZ",
        "outputId": "970449a7-c847-47b8-ce84-1544f7d440d0"
      },
      "execution_count": 8,
      "outputs": [
        {
          "output_type": "stream",
          "name": "stdout",
          "text": [
            "P\n",
            "y\n",
            "t\n",
            "n\n",
            "o\n",
            "h\n"
          ]
        }
      ]
    },
    {
      "cell_type": "code",
      "source": [
        "a = \"Python\"\n",
        "print(a[0:4])\n",
        "print(a[4:])\n",
        "print(a[:3])\n",
        "print(a[:])"
      ],
      "metadata": {
        "colab": {
          "base_uri": "https://localhost:8080/"
        },
        "id": "pCNgdz5Fhy9T",
        "outputId": "8cc2ac45-f5ac-4d7f-9c29-d7ea9130cea2"
      },
      "execution_count": 9,
      "outputs": [
        {
          "output_type": "stream",
          "name": "stdout",
          "text": [
            "Pyth\n",
            "on\n",
            "Pyt\n",
            "Python\n"
          ]
        }
      ]
    },
    {
      "cell_type": "code",
      "source": [
        "# String Functions\n",
        "\n",
        "#(1). lower() and upper(): Convert the string to lowercase or uppercase\n",
        "\n",
        "text = \"Hello\"\n",
        "print(text.lower())\n",
        "print(text.upper())"
      ],
      "metadata": {
        "colab": {
          "base_uri": "https://localhost:8080/"
        },
        "id": "ssysdeS7inVq",
        "outputId": "82f21123-2516-4c69-dcbe-6a0d89945e13"
      },
      "execution_count": 10,
      "outputs": [
        {
          "output_type": "stream",
          "name": "stdout",
          "text": [
            "hello\n",
            "HELLO\n"
          ]
        }
      ]
    },
    {
      "cell_type": "code",
      "source": [
        "#(2). stip(): Removes whitespace from both ends of a string.\n",
        "text = \"   Hello, World!   \"\n",
        "print(text.strip())"
      ],
      "metadata": {
        "colab": {
          "base_uri": "https://localhost:8080/"
        },
        "id": "H7jbr-c_jGlC",
        "outputId": "d5d9d9f9-0f7e-4a9c-fae1-affcd01ad862"
      },
      "execution_count": 11,
      "outputs": [
        {
          "output_type": "stream",
          "name": "stdout",
          "text": [
            "Hello, World!\n"
          ]
        }
      ]
    },
    {
      "cell_type": "code",
      "source": [
        "a = \"Python  \"\n",
        "a.rstrip()"
      ],
      "metadata": {
        "colab": {
          "base_uri": "https://localhost:8080/",
          "height": 35
        },
        "id": "28KnIL6kkM5j",
        "outputId": "bc501252-fffb-46c0-c18f-3ac8f2d31872"
      },
      "execution_count": 13,
      "outputs": [
        {
          "output_type": "execute_result",
          "data": {
            "text/plain": [
              "'Python'"
            ],
            "application/vnd.google.colaboratory.intrinsic+json": {
              "type": "string"
            }
          },
          "metadata": {},
          "execution_count": 13
        }
      ]
    },
    {
      "cell_type": "code",
      "source": [
        "a = \"Python\"\n",
        "a.lstrip()"
      ],
      "metadata": {
        "colab": {
          "base_uri": "https://localhost:8080/",
          "height": 35
        },
        "id": "J85WYUvZkUrz",
        "outputId": "bffa9575-1f90-41cd-c6cd-8f8d2fe76675"
      },
      "execution_count": 14,
      "outputs": [
        {
          "output_type": "execute_result",
          "data": {
            "text/plain": [
              "'Python'"
            ],
            "application/vnd.google.colaboratory.intrinsic+json": {
              "type": "string"
            }
          },
          "metadata": {},
          "execution_count": 14
        }
      ]
    },
    {
      "cell_type": "code",
      "source": [
        "#(3). replace(): replaces a substring with another string.\n",
        "text = \"I love python\"\n",
        "print(text.replace(\"python\", \"coding\"))"
      ],
      "metadata": {
        "colab": {
          "base_uri": "https://localhost:8080/"
        },
        "id": "bosQ7HyCjiN4",
        "outputId": "e4573334-27df-4a52-95e8-1684a47715af"
      },
      "execution_count": 12,
      "outputs": [
        {
          "output_type": "stream",
          "name": "stdout",
          "text": [
            "I love coding\n"
          ]
        }
      ]
    },
    {
      "cell_type": "code",
      "source": [
        "#(4). split(): splits a string into a list.\n",
        "text =\"apple, banana, cherry\"\n",
        "print(text.split(\", \"))"
      ],
      "metadata": {
        "colab": {
          "base_uri": "https://localhost:8080/"
        },
        "id": "_A-PbQDxj9PI",
        "outputId": "a3a92f8c-f4ce-40fd-99ab-71340710d5a4"
      },
      "execution_count": 20,
      "outputs": [
        {
          "output_type": "stream",
          "name": "stdout",
          "text": [
            "['apple', 'banana', 'cherry']\n"
          ]
        }
      ]
    },
    {
      "cell_type": "code",
      "source": [
        "#(5). join(): joins elements of a list into a single string.\n",
        "fruits = ['apple', 'banana', 'cherry']\n",
        "print(\", \". join(fruits))"
      ],
      "metadata": {
        "colab": {
          "base_uri": "https://localhost:8080/"
        },
        "id": "oAQN0WOuk4At",
        "outputId": "dfbd9c57-637c-4d2a-d283-2b534b5dd51c"
      },
      "execution_count": 17,
      "outputs": [
        {
          "output_type": "stream",
          "name": "stdout",
          "text": [
            "apple, banana, cherry\n"
          ]
        }
      ]
    },
    {
      "cell_type": "code",
      "source": [
        "#(6). Isalnum():\n",
        "a = \"sam123\"\n",
        "a.isalnum()"
      ],
      "metadata": {
        "colab": {
          "base_uri": "https://localhost:8080/"
        },
        "id": "crtz5oA4lSSg",
        "outputId": "a80bd493-c66b-4885-bf74-db42ade87df8"
      },
      "execution_count": 25,
      "outputs": [
        {
          "output_type": "execute_result",
          "data": {
            "text/plain": [
              "True"
            ]
          },
          "metadata": {},
          "execution_count": 25
        }
      ]
    },
    {
      "cell_type": "code",
      "source": [
        "#(7). isalpha()\n",
        "a = \"sam\"\n",
        "a.isalpha()"
      ],
      "metadata": {
        "colab": {
          "base_uri": "https://localhost:8080/"
        },
        "id": "cmxp5W7bl3p3",
        "outputId": "dfc26230-03cc-4951-c986-8ce1a25b9b70"
      },
      "execution_count": 27,
      "outputs": [
        {
          "output_type": "execute_result",
          "data": {
            "text/plain": [
              "True"
            ]
          },
          "metadata": {},
          "execution_count": 27
        }
      ]
    },
    {
      "cell_type": "code",
      "source": [
        "#(8). isdigit():\n",
        "a = \"134\"\n",
        "a.isdigit()"
      ],
      "metadata": {
        "colab": {
          "base_uri": "https://localhost:8080/"
        },
        "id": "RS0IK4s6mTcn",
        "outputId": "30375613-379a-41f4-b384-48ff8086aaef"
      },
      "execution_count": 28,
      "outputs": [
        {
          "output_type": "execute_result",
          "data": {
            "text/plain": [
              "True"
            ]
          },
          "metadata": {},
          "execution_count": 28
        }
      ]
    },
    {
      "cell_type": "code",
      "source": [
        "##LIST IN PYTHON\n",
        "\n",
        "#(1). Identification = []\n",
        "#(2). Mutable data type ===> we can change or update our values at a run time.\n",
        "#(3). Indexing start from 0 and length start from 1."
      ],
      "metadata": {
        "id": "eYWhdCPxmifb"
      },
      "execution_count": 29,
      "outputs": []
    },
    {
      "cell_type": "code",
      "source": [
        "a = ['sam' , 'python' , 'rahul' , 'math']\n",
        "type(a)"
      ],
      "metadata": {
        "colab": {
          "base_uri": "https://localhost:8080/"
        },
        "id": "ssJAdIybndGl",
        "outputId": "4f05ed38-76eb-43c7-9f2d-d982eed381b2"
      },
      "execution_count": 30,
      "outputs": [
        {
          "output_type": "execute_result",
          "data": {
            "text/plain": [
              "list"
            ]
          },
          "metadata": {},
          "execution_count": 30
        }
      ]
    },
    {
      "cell_type": "code",
      "source": [
        "print(a[0])\n",
        "print(a[1])\n",
        "print(a[2])\n",
        "print(a[3])"
      ],
      "metadata": {
        "colab": {
          "base_uri": "https://localhost:8080/"
        },
        "id": "vKFpkq-1no6m",
        "outputId": "28826e37-96a4-48f4-844e-8653a89b3a9f"
      },
      "execution_count": 33,
      "outputs": [
        {
          "output_type": "stream",
          "name": "stdout",
          "text": [
            "sam\n",
            "python\n",
            "rahul\n",
            "math\n"
          ]
        }
      ]
    },
    {
      "cell_type": "code",
      "source": [
        "print(a[0][2])\n",
        "print(a[3][3])"
      ],
      "metadata": {
        "colab": {
          "base_uri": "https://localhost:8080/"
        },
        "id": "yWBA0Pxensq0",
        "outputId": "4413d590-876c-497c-8f87-e92c6858e086"
      },
      "execution_count": 35,
      "outputs": [
        {
          "output_type": "stream",
          "name": "stdout",
          "text": [
            "m\n",
            "h\n"
          ]
        }
      ]
    },
    {
      "cell_type": "code",
      "source": [
        "#loop in list\n",
        "a = ['sam' , 'python' , 'rahul' , 'math']\n",
        "for i in a:\n",
        "  print(i)"
      ],
      "metadata": {
        "colab": {
          "base_uri": "https://localhost:8080/"
        },
        "id": "v5fyuc29n9jK",
        "outputId": "f99b5fb4-4e49-4098-b5db-8a4fe538d726"
      },
      "execution_count": 36,
      "outputs": [
        {
          "output_type": "stream",
          "name": "stdout",
          "text": [
            "sam\n",
            "python\n",
            "rahul\n",
            "math\n"
          ]
        }
      ]
    },
    {
      "cell_type": "code",
      "source": [
        "for i in range(len(a)):\n",
        "  print(i)\n",
        "\n",
        " # print(a[i])   to print characters"
      ],
      "metadata": {
        "colab": {
          "base_uri": "https://localhost:8080/"
        },
        "id": "MbC53mkro0DI",
        "outputId": "d972aad0-c37e-47f9-8c56-dc4330187d42"
      },
      "execution_count": 40,
      "outputs": [
        {
          "output_type": "stream",
          "name": "stdout",
          "text": [
            "0\n",
            "1\n",
            "2\n",
            "3\n"
          ]
        }
      ]
    },
    {
      "cell_type": "code",
      "source": [
        "#PROPERTIES OF LIST\n",
        "\n",
        "#(1). cocatenation\n",
        "a = [1,2,3]\n",
        "b = [4,5,6]\n",
        "c = a + b\n",
        "c"
      ],
      "metadata": {
        "colab": {
          "base_uri": "https://localhost:8080/"
        },
        "id": "21Ni02uvo70y",
        "outputId": "ade07e77-9a2c-4179-ad2e-bda7e0d7232f"
      },
      "execution_count": 42,
      "outputs": [
        {
          "output_type": "execute_result",
          "data": {
            "text/plain": [
              "[1, 2, 3, 4, 5, 6]"
            ]
          },
          "metadata": {},
          "execution_count": 42
        }
      ]
    },
    {
      "cell_type": "code",
      "source": [
        "#(2). replicaation\n",
        "a = [1,2,3]\n",
        "a*3"
      ],
      "metadata": {
        "colab": {
          "base_uri": "https://localhost:8080/"
        },
        "id": "zlg6lPc3pmK0",
        "outputId": "38d64945-6506-41bb-9bca-1fc02b0cee3f"
      },
      "execution_count": 43,
      "outputs": [
        {
          "output_type": "execute_result",
          "data": {
            "text/plain": [
              "[1, 2, 3, 1, 2, 3, 1, 2, 3]"
            ]
          },
          "metadata": {},
          "execution_count": 43
        }
      ]
    },
    {
      "cell_type": "code",
      "source": [
        "# FUNCTIONS IN LIST\n",
        "\n",
        "#(1). Len()\n",
        "a = [1,2,34,5,56]\n",
        "print(len(a))"
      ],
      "metadata": {
        "colab": {
          "base_uri": "https://localhost:8080/"
        },
        "id": "6S93e3OXp0u7",
        "outputId": "20ca9cdc-dc6c-4e63-b28b-591317f310eb"
      },
      "execution_count": 44,
      "outputs": [
        {
          "output_type": "stream",
          "name": "stdout",
          "text": [
            "5\n"
          ]
        }
      ]
    },
    {
      "cell_type": "code",
      "source": [
        "#(2). index()\n",
        "a = ['sam' , 'python' , 'rahul' , 'math']\n",
        "print(a.index('math'))"
      ],
      "metadata": {
        "colab": {
          "base_uri": "https://localhost:8080/"
        },
        "id": "MdpWz8Yxqdmz",
        "outputId": "f56de611-ebb8-4840-f23b-7a2a85842e81"
      },
      "execution_count": 46,
      "outputs": [
        {
          "output_type": "stream",
          "name": "stdout",
          "text": [
            "3\n"
          ]
        }
      ]
    },
    {
      "cell_type": "code",
      "source": [
        "#(3). append() ===> it will add element in the last indexing.\n",
        "a = ['sam' , 'python' , 'rahul' , 'math']\n",
        "a.append('physics')\n",
        "a"
      ],
      "metadata": {
        "colab": {
          "base_uri": "https://localhost:8080/"
        },
        "id": "MLPnrZTzqvrS",
        "outputId": "ba55cba1-330f-4847-aef5-23c1dc3c2175"
      },
      "execution_count": 47,
      "outputs": [
        {
          "output_type": "execute_result",
          "data": {
            "text/plain": [
              "['sam', 'python', 'rahul', 'math', 'physics']"
            ]
          },
          "metadata": {},
          "execution_count": 47
        }
      ]
    },
    {
      "cell_type": "code",
      "source": [
        "#(4). insert(index , object) ===> we can add elemnt at any indexing.\n",
        "a = ['sam' , 'python' , 'rahul' , 'math']\n",
        "a.insert(1 , \"chemistry\")\n",
        "a"
      ],
      "metadata": {
        "colab": {
          "base_uri": "https://localhost:8080/"
        },
        "id": "zlJ8FWTxrQw9",
        "outputId": "54869b33-6d9e-46be-97f4-e1a8c86863c5"
      },
      "execution_count": 48,
      "outputs": [
        {
          "output_type": "execute_result",
          "data": {
            "text/plain": [
              "['sam', 'chemistry', 'python', 'rahul', 'math']"
            ]
          },
          "metadata": {},
          "execution_count": 48
        }
      ]
    },
    {
      "cell_type": "code",
      "source": [
        "#(5). remove() ===>\n",
        "a = ['sam' , 'python' , 'rahul' , 'math']\n",
        "a.remove('math')\n",
        "a"
      ],
      "metadata": {
        "colab": {
          "base_uri": "https://localhost:8080/"
        },
        "id": "cCbr6vNrrmb3",
        "outputId": "58db07c5-2234-4dba-fad6-abb058b2a971"
      },
      "execution_count": 50,
      "outputs": [
        {
          "output_type": "execute_result",
          "data": {
            "text/plain": [
              "['sam', 'python', 'rahul']"
            ]
          },
          "metadata": {},
          "execution_count": 50
        }
      ]
    },
    {
      "cell_type": "code",
      "source": [
        "#(6). pop() ===> it will remove element from last indexing.\n",
        "\n",
        "a = ['sam' , 'python' , 'rahul' , 'math']\n",
        "print(a)\n",
        "a.pop()\n",
        "print(a)\n",
        "a.pop()\n",
        "print(a)\n",
        "a.pop()\n",
        "print(a)\n"
      ],
      "metadata": {
        "colab": {
          "base_uri": "https://localhost:8080/"
        },
        "id": "HizLp1SLsu_B",
        "outputId": "7bfc918e-6695-4c99-fcb3-7ce58206e3ce"
      },
      "execution_count": 52,
      "outputs": [
        {
          "output_type": "stream",
          "name": "stdout",
          "text": [
            "['sam', 'python', 'rahul', 'math']\n",
            "['sam', 'python', 'rahul']\n",
            "['sam', 'python']\n",
            "['sam']\n"
          ]
        }
      ]
    },
    {
      "cell_type": "code",
      "source": [
        "# HOW CAN WE CREATE A USER DEFINED LIST?"
      ],
      "metadata": {
        "id": "wSTUmNPitKLb"
      },
      "execution_count": 53,
      "outputs": []
    },
    {
      "cell_type": "code",
      "source": [
        "a = []\n",
        "size = int(input(\"enter item:\"))\n",
        "for i in range(size):\n",
        "  val = input(\"enter item:\")\n",
        "  a.append(val)\n",
        "print(a)"
      ],
      "metadata": {
        "colab": {
          "base_uri": "https://localhost:8080/"
        },
        "id": "yRi8FUBEtWVz",
        "outputId": "1013f810-2e17-4e98-90b4-940e16e1112f"
      },
      "execution_count": 56,
      "outputs": [
        {
          "output_type": "stream",
          "name": "stdout",
          "text": [
            "enter item:3\n",
            "enter item:gdf\n",
            "enter item:3\n",
            "enter item:dfgrfdgdf\n",
            "['gdf', '3', 'dfgrfdgdf']\n"
          ]
        }
      ]
    },
    {
      "cell_type": "code",
      "source": [
        "# TUPLE IN PYTHON"
      ],
      "metadata": {
        "id": "VDIGus5dtz1y"
      },
      "execution_count": 57,
      "outputs": []
    },
    {
      "cell_type": "code",
      "source": [
        "#(1). identification = ()\n",
        "#(2). immutable datatype ===> we cannnot change or update our values at a run time.\n",
        "#(3). indexing start from 0 and length start from 1."
      ],
      "metadata": {
        "id": "Yy_lb1v5upgP"
      },
      "execution_count": 58,
      "outputs": []
    },
    {
      "cell_type": "code",
      "source": [
        "a = ('math' , 'physics' , 'js')\n",
        "type(a)"
      ],
      "metadata": {
        "colab": {
          "base_uri": "https://localhost:8080/"
        },
        "id": "zYpc1881vITX",
        "outputId": "c09630dd-67da-476e-d15c-b25103380899"
      },
      "execution_count": 60,
      "outputs": [
        {
          "output_type": "execute_result",
          "data": {
            "text/plain": [
              "tuple"
            ]
          },
          "metadata": {},
          "execution_count": 60
        }
      ]
    },
    {
      "cell_type": "code",
      "source": [
        "print(a[0])\n",
        "print(a[1])\n",
        "print(a[2])"
      ],
      "metadata": {
        "colab": {
          "base_uri": "https://localhost:8080/"
        },
        "id": "O1eIrRsIvQfh",
        "outputId": "d4f70396-8e0b-4824-f885-57037d615414"
      },
      "execution_count": 62,
      "outputs": [
        {
          "output_type": "stream",
          "name": "stdout",
          "text": [
            "math\n",
            "physics\n",
            "js\n"
          ]
        }
      ]
    },
    {
      "cell_type": "code",
      "source": [
        "a = 13,      # This also represents tuples\n",
        "type(a)"
      ],
      "metadata": {
        "colab": {
          "base_uri": "https://localhost:8080/"
        },
        "id": "FTfQwVh4vjEG",
        "outputId": "ef7820a0-a40f-4338-abf0-da048fa611ba"
      },
      "execution_count": 64,
      "outputs": [
        {
          "output_type": "execute_result",
          "data": {
            "text/plain": [
              "tuple"
            ]
          },
          "metadata": {},
          "execution_count": 64
        }
      ]
    },
    {
      "cell_type": "code",
      "source": [
        "#loop in tuple\n",
        "a = ['raj' , 'sam' , 'rahul']\n",
        "for i in a:\n",
        "  print(i)"
      ],
      "metadata": {
        "colab": {
          "base_uri": "https://localhost:8080/"
        },
        "id": "wa54Zde6vx07",
        "outputId": "bf7d5d0d-5f74-42ff-e742-05235dd7fd58"
      },
      "execution_count": 65,
      "outputs": [
        {
          "output_type": "stream",
          "name": "stdout",
          "text": [
            "raj\n",
            "sam\n",
            "rahul\n"
          ]
        }
      ]
    },
    {
      "cell_type": "code",
      "source": [
        "print(a[0:])\n",
        "print(a[0:2])\n",
        "print(a[:2])\n",
        "print(a[:])"
      ],
      "metadata": {
        "colab": {
          "base_uri": "https://localhost:8080/"
        },
        "id": "2szbQzjMwmWy",
        "outputId": "91368a8a-d919-4022-e1ac-133fa1ed941f"
      },
      "execution_count": 66,
      "outputs": [
        {
          "output_type": "stream",
          "name": "stdout",
          "text": [
            "['raj', 'sam', 'rahul']\n",
            "['raj', 'sam']\n",
            "['raj', 'sam']\n",
            "['raj', 'sam', 'rahul']\n"
          ]
        }
      ]
    },
    {
      "cell_type": "code",
      "source": [
        "#(1). len()\n",
        "a = (1,2,3)\n",
        "len(a)"
      ],
      "metadata": {
        "colab": {
          "base_uri": "https://localhost:8080/"
        },
        "id": "6YDT9PXAwyzr",
        "outputId": "9279e7a8-3d3c-4cd2-a98e-bb6e4b806535"
      },
      "execution_count": 67,
      "outputs": [
        {
          "output_type": "execute_result",
          "data": {
            "text/plain": [
              "3"
            ]
          },
          "metadata": {},
          "execution_count": 67
        }
      ]
    },
    {
      "cell_type": "code",
      "source": [
        "#(2). index()\n",
        "a = (1,2,578,90)\n",
        "a.index(578)"
      ],
      "metadata": {
        "colab": {
          "base_uri": "https://localhost:8080/"
        },
        "id": "qqbA2X9Jxkmj",
        "outputId": "c3542157-62f3-45cd-a65b-6f90488bbac9"
      },
      "execution_count": 68,
      "outputs": [
        {
          "output_type": "execute_result",
          "data": {
            "text/plain": [
              "2"
            ]
          },
          "metadata": {},
          "execution_count": 68
        }
      ]
    },
    {
      "cell_type": "code",
      "source": [
        "#(3). count() ==> it will return total frequency of object.\n",
        "a = (1,2,2,2,2,2,3,4)\n",
        "print(a.count(2))"
      ],
      "metadata": {
        "colab": {
          "base_uri": "https://localhost:8080/"
        },
        "id": "zmDndV6bx3Gh",
        "outputId": "0b5c83c0-4c9e-4fff-9eb5-2e42e445c635"
      },
      "execution_count": 69,
      "outputs": [
        {
          "output_type": "stream",
          "name": "stdout",
          "text": [
            "5\n"
          ]
        }
      ]
    },
    {
      "cell_type": "code",
      "source": [
        "#HOW CAN WE CREATE A USER DEFINED TUPLE?"
      ],
      "metadata": {
        "id": "g52TiSESyYcN"
      },
      "execution_count": 70,
      "outputs": []
    },
    {
      "cell_type": "code",
      "source": [
        "a = []\n",
        "size = int(input(\"enter item:\"))\n",
        "for i in range(size):\n",
        "  val = input(\"enter item:\")\n",
        "  a.append(val)\n",
        "b = tuple(a)\n",
        "b"
      ],
      "metadata": {
        "colab": {
          "base_uri": "https://localhost:8080/"
        },
        "id": "g1yL39pIyihb",
        "outputId": "7b5cace0-1af9-4958-b51c-0d1f96a88315"
      },
      "execution_count": 72,
      "outputs": [
        {
          "name": "stdout",
          "output_type": "stream",
          "text": [
            "enter item:2\n",
            "enter item:121\n",
            "enter item:3423\n"
          ]
        },
        {
          "output_type": "execute_result",
          "data": {
            "text/plain": [
              "('121', '3423')"
            ]
          },
          "metadata": {},
          "execution_count": 72
        }
      ]
    },
    {
      "cell_type": "code",
      "source": [
        "a = (1, \"sam\", 79)\n",
        "b = list(a)\n",
        "b[2] = 5000\n",
        "b"
      ],
      "metadata": {
        "colab": {
          "base_uri": "https://localhost:8080/"
        },
        "id": "3a27xuVJy5LQ",
        "outputId": "6a7a9c8e-8583-4825-9241-ff7bd11f301e"
      },
      "execution_count": 73,
      "outputs": [
        {
          "output_type": "execute_result",
          "data": {
            "text/plain": [
              "[1, 'sam', 5000]"
            ]
          },
          "metadata": {},
          "execution_count": 73
        }
      ]
    },
    {
      "cell_type": "code",
      "source": [
        "a=[]\n",
        "size = int(input(\"Enter item:\"))\n",
        "for i in range (size):\n",
        "  val = int(input(\"Enter value:\"))\n",
        "  a.append(val)\n",
        "b=tuple(a)\n",
        "print(b)\n",
        "c=list(b)\n",
        "p=int(input(\"Enter Your index for updated:\"))\n",
        "c[p]=input(\"Enter updated value:\")\n",
        "d=tuple(c)\n",
        "d"
      ],
      "metadata": {
        "colab": {
          "base_uri": "https://localhost:8080/"
        },
        "id": "BY_rt9tLzsDd",
        "outputId": "3d9637be-1d81-4e6d-b29a-536565ad0f9b"
      },
      "execution_count": 74,
      "outputs": [
        {
          "name": "stdout",
          "output_type": "stream",
          "text": [
            "Enter item:3\n",
            "Enter value:21\n",
            "Enter value:343\n",
            "Enter value:3\n",
            "(21, 343, 3)\n",
            "Enter Your index for updated:1\n",
            "Enter updated value:333\n"
          ]
        },
        {
          "output_type": "execute_result",
          "data": {
            "text/plain": [
              "(21, '333', 3)"
            ]
          },
          "metadata": {},
          "execution_count": 74
        }
      ]
    },
    {
      "cell_type": "markdown",
      "source": [
        "# DICTIONARY IN PYTHON"
      ],
      "metadata": {
        "id": "MdxB2GkzUxgh"
      }
    },
    {
      "cell_type": "code",
      "source": [
        "#(1). identification = {key:value , key:value...}\n",
        "#(2). mutable datatype ==> we can change values at a run time.\n",
        "#(3). elements are separated by commas."
      ],
      "metadata": {
        "id": "6xF3aYjz0NWF"
      },
      "execution_count": 2,
      "outputs": []
    },
    {
      "cell_type": "code",
      "source": [
        "a = {'brand': 'mahindra' , 'model': 'scorpio' , 'year': '2023'}\n",
        "type(a)"
      ],
      "metadata": {
        "colab": {
          "base_uri": "https://localhost:8080/"
        },
        "id": "iImQc88xUiSV",
        "outputId": "ec5faa24-c3b4-46a7-ae7b-c2a8f5178304"
      },
      "execution_count": 3,
      "outputs": [
        {
          "output_type": "execute_result",
          "data": {
            "text/plain": [
              "dict"
            ]
          },
          "metadata": {},
          "execution_count": 3
        }
      ]
    },
    {
      "cell_type": "code",
      "source": [
        "#loop in dictionary\n",
        "for i in a.keys():\n",
        "  print(i)"
      ],
      "metadata": {
        "colab": {
          "base_uri": "https://localhost:8080/"
        },
        "id": "ltkldTlAV46_",
        "outputId": "9de2050d-231c-4e44-f5bf-3157a20c398b"
      },
      "execution_count": 4,
      "outputs": [
        {
          "output_type": "stream",
          "name": "stdout",
          "text": [
            "brand\n",
            "model\n",
            "year\n"
          ]
        }
      ]
    },
    {
      "cell_type": "code",
      "source": [
        "for i in a.values():\n",
        "  print(i)"
      ],
      "metadata": {
        "colab": {
          "base_uri": "https://localhost:8080/"
        },
        "id": "uAITvxfGWGGU",
        "outputId": "463ab7cc-bb60-41ce-bb78-df333ba67bb8"
      },
      "execution_count": 5,
      "outputs": [
        {
          "output_type": "stream",
          "name": "stdout",
          "text": [
            "mahindra\n",
            "scorpio\n",
            "2023\n"
          ]
        }
      ]
    },
    {
      "cell_type": "code",
      "source": [
        "for x,y in a.items():\n",
        "  print(x,y)"
      ],
      "metadata": {
        "colab": {
          "base_uri": "https://localhost:8080/"
        },
        "id": "X6FGMdYWWLUm",
        "outputId": "8473ca40-fffc-470b-9097-7d09cab84dcc"
      },
      "execution_count": 6,
      "outputs": [
        {
          "output_type": "stream",
          "name": "stdout",
          "text": [
            "brand mahindra\n",
            "model scorpio\n",
            "year 2023\n"
          ]
        }
      ]
    },
    {
      "cell_type": "code",
      "source": [
        "a['year'] = 2024"
      ],
      "metadata": {
        "id": "7jCHGB0kWZ6_"
      },
      "execution_count": 7,
      "outputs": []
    },
    {
      "cell_type": "code",
      "source": [
        "a"
      ],
      "metadata": {
        "colab": {
          "base_uri": "https://localhost:8080/"
        },
        "id": "4RnpWVTUWq9v",
        "outputId": "e25aa24f-e3a4-412a-b89f-bd11f8f7e161"
      },
      "execution_count": 8,
      "outputs": [
        {
          "output_type": "execute_result",
          "data": {
            "text/plain": [
              "{'brand': 'mahindra', 'model': 'scorpio', 'year': 2024}"
            ]
          },
          "metadata": {},
          "execution_count": 8
        }
      ]
    },
    {
      "cell_type": "code",
      "source": [
        "a['Year'] = 2025    ##it is case sensitive"
      ],
      "metadata": {
        "id": "6oP0Uy4PWrt3"
      },
      "execution_count": 11,
      "outputs": []
    },
    {
      "cell_type": "code",
      "source": [
        "a"
      ],
      "metadata": {
        "colab": {
          "base_uri": "https://localhost:8080/"
        },
        "id": "Vd2U76jwW2cZ",
        "outputId": "e753d245-786d-4a72-d53d-815af0b60738"
      },
      "execution_count": 10,
      "outputs": [
        {
          "output_type": "execute_result",
          "data": {
            "text/plain": [
              "{'brand': 'mahindra', 'model': 'scorpio', 'year': 2024, 'Year': 2025}"
            ]
          },
          "metadata": {},
          "execution_count": 10
        }
      ]
    },
    {
      "cell_type": "markdown",
      "source": [
        "Functions in Dictionary"
      ],
      "metadata": {
        "id": "6o5GNbKRW9me"
      }
    },
    {
      "cell_type": "code",
      "source": [
        "#(1). len()\n",
        "len(a)"
      ],
      "metadata": {
        "colab": {
          "base_uri": "https://localhost:8080/"
        },
        "id": "GFsi7jbQW3HW",
        "outputId": "8d1c4c22-380d-4483-f850-86514ab712a9"
      },
      "execution_count": 13,
      "outputs": [
        {
          "output_type": "execute_result",
          "data": {
            "text/plain": [
              "4"
            ]
          },
          "metadata": {},
          "execution_count": 13
        }
      ]
    },
    {
      "cell_type": "code",
      "source": [
        "#(2). pop()\n",
        "print(a)\n",
        "a.pop('Year')\n",
        "print(a)\n"
      ],
      "metadata": {
        "colab": {
          "base_uri": "https://localhost:8080/"
        },
        "id": "ZueOyLNKXVoj",
        "outputId": "8f916581-9fc5-48f3-94c9-aa1ed7fb7638"
      },
      "execution_count": 14,
      "outputs": [
        {
          "output_type": "stream",
          "name": "stdout",
          "text": [
            "{'brand': 'mahindra', 'model': 'scorpio', 'year': 2024, 'Year': 2025}\n",
            "{'brand': 'mahindra', 'model': 'scorpio', 'year': 2024}\n"
          ]
        }
      ]
    },
    {
      "cell_type": "code",
      "source": [
        "#(3). popitem()\n",
        "a = {'brand': 'mahindra' , 'model': 'scorpio' , 'year': '2023'}\n",
        "print(a)\n",
        "a.popitem()\n",
        "print(a)\n",
        "a.popitem()\n",
        "print(a)"
      ],
      "metadata": {
        "colab": {
          "base_uri": "https://localhost:8080/"
        },
        "id": "Vb0dwBKRXqFH",
        "outputId": "2cc632b4-e2a2-47cb-98b0-69f1bade05d8"
      },
      "execution_count": 15,
      "outputs": [
        {
          "output_type": "stream",
          "name": "stdout",
          "text": [
            "{'brand': 'mahindra', 'model': 'scorpio', 'year': '2023'}\n",
            "{'brand': 'mahindra', 'model': 'scorpio'}\n",
            "{'brand': 'mahindra'}\n"
          ]
        }
      ]
    },
    {
      "cell_type": "code",
      "source": [
        "#(4). del\n",
        "a = {'brand': 'mahindra' , 'model': 'scorpio' , 'year': '2023'}\n",
        "print(a)\n",
        "del a\n",
        "print(a)"
      ],
      "metadata": {
        "colab": {
          "base_uri": "https://localhost:8080/",
          "height": 193
        },
        "id": "bvsu_SP2YIuD",
        "outputId": "f3a56c4f-d5b5-4d2f-f027-3db613c9bfb7"
      },
      "execution_count": 16,
      "outputs": [
        {
          "output_type": "stream",
          "name": "stdout",
          "text": [
            "{'brand': 'mahindra', 'model': 'scorpio', 'year': '2023'}\n"
          ]
        },
        {
          "output_type": "error",
          "ename": "NameError",
          "evalue": "name 'a' is not defined",
          "traceback": [
            "\u001b[0;31m---------------------------------------------------------------------------\u001b[0m",
            "\u001b[0;31mNameError\u001b[0m                                 Traceback (most recent call last)",
            "\u001b[0;32m<ipython-input-16-32e298a567bc>\u001b[0m in \u001b[0;36m<cell line: 5>\u001b[0;34m()\u001b[0m\n\u001b[1;32m      3\u001b[0m \u001b[0mprint\u001b[0m\u001b[0;34m(\u001b[0m\u001b[0ma\u001b[0m\u001b[0;34m)\u001b[0m\u001b[0;34m\u001b[0m\u001b[0;34m\u001b[0m\u001b[0m\n\u001b[1;32m      4\u001b[0m \u001b[0;32mdel\u001b[0m \u001b[0ma\u001b[0m\u001b[0;34m\u001b[0m\u001b[0;34m\u001b[0m\u001b[0m\n\u001b[0;32m----> 5\u001b[0;31m \u001b[0mprint\u001b[0m\u001b[0;34m(\u001b[0m\u001b[0ma\u001b[0m\u001b[0;34m)\u001b[0m\u001b[0;34m\u001b[0m\u001b[0;34m\u001b[0m\u001b[0m\n\u001b[0m",
            "\u001b[0;31mNameError\u001b[0m: name 'a' is not defined"
          ]
        }
      ]
    },
    {
      "cell_type": "code",
      "source": [
        "#(5). clear()\n",
        "a = {'brand': 'mahindra' , 'model': 'scorpio' , 'year': '2023'}\n",
        "a.clear()\n",
        "a"
      ],
      "metadata": {
        "colab": {
          "base_uri": "https://localhost:8080/"
        },
        "id": "4_PXI2JUYXJj",
        "outputId": "9a6cb445-4808-4066-f6ed-394e01242ea0"
      },
      "execution_count": 17,
      "outputs": [
        {
          "output_type": "execute_result",
          "data": {
            "text/plain": [
              "{}"
            ]
          },
          "metadata": {},
          "execution_count": 17
        }
      ]
    },
    {
      "cell_type": "markdown",
      "source": [
        "Sets In Python"
      ],
      "metadata": {
        "id": "P5qsJSDkYhTD"
      }
    },
    {
      "cell_type": "code",
      "source": [
        "#(1). identification()\n",
        "#(2). mutable, unordered, inindexed\n",
        "#(3). it will not accept duplicate values."
      ],
      "metadata": {
        "id": "bNwWU5KGYfk8"
      },
      "execution_count": 18,
      "outputs": []
    },
    {
      "cell_type": "code",
      "source": [
        "a = {'a' , 'b' , 'a' , 'a' , 'c'}\n",
        "print(a)"
      ],
      "metadata": {
        "colab": {
          "base_uri": "https://localhost:8080/"
        },
        "id": "gXoihfDEY3Wx",
        "outputId": "949315cc-a339-408a-e0e8-619368e84048"
      },
      "execution_count": 19,
      "outputs": [
        {
          "output_type": "stream",
          "name": "stdout",
          "text": [
            "{'b', 'a', 'c'}\n"
          ]
        }
      ]
    },
    {
      "cell_type": "code",
      "source": [
        "type(a)"
      ],
      "metadata": {
        "colab": {
          "base_uri": "https://localhost:8080/"
        },
        "id": "gMOjldguZHbI",
        "outputId": "589526e2-82b5-4d7f-c4ca-4faa2598ca53"
      },
      "execution_count": 20,
      "outputs": [
        {
          "output_type": "execute_result",
          "data": {
            "text/plain": [
              "set"
            ]
          },
          "metadata": {},
          "execution_count": 20
        }
      ]
    },
    {
      "cell_type": "code",
      "source": [
        "#mutable\n",
        "a = {'a' , 'b' , 'a' , 'a' , 'c'}\n",
        "a.add('d')\n",
        "a"
      ],
      "metadata": {
        "colab": {
          "base_uri": "https://localhost:8080/"
        },
        "id": "x1MKHNBxZK0P",
        "outputId": "1a0a975b-6191-417d-e9a5-78455e088b7a"
      },
      "execution_count": 21,
      "outputs": [
        {
          "output_type": "execute_result",
          "data": {
            "text/plain": [
              "{'a', 'b', 'c', 'd'}"
            ]
          },
          "metadata": {},
          "execution_count": 21
        }
      ]
    },
    {
      "cell_type": "code",
      "source": [
        "a.remove('d')\n",
        "a"
      ],
      "metadata": {
        "colab": {
          "base_uri": "https://localhost:8080/"
        },
        "id": "iu6ftMlTZVFj",
        "outputId": "05601af3-4794-4caa-fa4f-69424151a8ab"
      },
      "execution_count": 22,
      "outputs": [
        {
          "output_type": "execute_result",
          "data": {
            "text/plain": [
              "{'a', 'b', 'c'}"
            ]
          },
          "metadata": {},
          "execution_count": 22
        }
      ]
    },
    {
      "cell_type": "code",
      "source": [
        "for i in a:\n",
        "  print(i)"
      ],
      "metadata": {
        "colab": {
          "base_uri": "https://localhost:8080/"
        },
        "id": "cckad3JFZZXz",
        "outputId": "263151c3-2476-4f08-891e-889ba8581345"
      },
      "execution_count": 23,
      "outputs": [
        {
          "output_type": "stream",
          "name": "stdout",
          "text": [
            "b\n",
            "a\n",
            "c\n"
          ]
        }
      ]
    },
    {
      "cell_type": "code",
      "source": [
        "#Sets Operations\n",
        "\n",
        "#(1). union\n",
        "a = {1,2,3,4}\n",
        "b = {3,4,5,6}\n",
        "c = a.union(b)\n",
        "c"
      ],
      "metadata": {
        "colab": {
          "base_uri": "https://localhost:8080/"
        },
        "id": "jU4USPhrZgZ7",
        "outputId": "691135ed-64d5-4207-fade-477082c7f0a9"
      },
      "execution_count": 24,
      "outputs": [
        {
          "output_type": "execute_result",
          "data": {
            "text/plain": [
              "{1, 2, 3, 4, 5, 6}"
            ]
          },
          "metadata": {},
          "execution_count": 24
        }
      ]
    },
    {
      "cell_type": "code",
      "source": [
        "#(2). intersection\n",
        "a = {1,2,3,4}\n",
        "b = {3,4,5,6}\n",
        "c = a.intersection(b)\n",
        "c"
      ],
      "metadata": {
        "colab": {
          "base_uri": "https://localhost:8080/"
        },
        "id": "tF5-StuZZ40e",
        "outputId": "e3c35273-c720-4f47-bb3b-15230a2f7939"
      },
      "execution_count": 25,
      "outputs": [
        {
          "output_type": "execute_result",
          "data": {
            "text/plain": [
              "{3, 4}"
            ]
          },
          "metadata": {},
          "execution_count": 25
        }
      ]
    },
    {
      "cell_type": "code",
      "source": [
        "#(3).\n",
        "a-b"
      ],
      "metadata": {
        "colab": {
          "base_uri": "https://localhost:8080/"
        },
        "id": "Er1tYRH2aCrT",
        "outputId": "e6178220-d16f-4623-cc75-01a3e1de03fd"
      },
      "execution_count": 26,
      "outputs": [
        {
          "output_type": "execute_result",
          "data": {
            "text/plain": [
              "{1, 2}"
            ]
          },
          "metadata": {},
          "execution_count": 26
        }
      ]
    },
    {
      "cell_type": "code",
      "source": [
        "#(4).\n",
        "b-a"
      ],
      "metadata": {
        "colab": {
          "base_uri": "https://localhost:8080/"
        },
        "id": "OO4OlduDaR9r",
        "outputId": "1eb37538-668c-4632-c33c-99aa010b870c"
      },
      "execution_count": 27,
      "outputs": [
        {
          "output_type": "execute_result",
          "data": {
            "text/plain": [
              "{5, 6}"
            ]
          },
          "metadata": {},
          "execution_count": 27
        }
      ]
    },
    {
      "cell_type": "code",
      "source": [],
      "metadata": {
        "id": "KFc6ZANCaU9P"
      },
      "execution_count": null,
      "outputs": []
    }
  ]
}