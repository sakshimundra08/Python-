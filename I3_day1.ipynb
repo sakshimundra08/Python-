{
  "nbformat": 4,
  "nbformat_minor": 0,
  "metadata": {
    "colab": {
      "provenance": []
    },
    "kernelspec": {
      "name": "python3",
      "display_name": "Python 3"
    },
    "language_info": {
      "name": "python"
    }
  },
  "cells": [
    {
      "cell_type": "code",
      "execution_count": 1,
      "metadata": {
        "id": "Y9kYHJGdZ9_I"
      },
      "outputs": [],
      "source": [
        "#python --version\n"
      ]
    },
    {
      "cell_type": "code",
      "source": [
        "print(type(45))\n",
        "print(type(45.78))\n",
        "print(type('45'))\n",
        "print(type(5>4))"
      ],
      "metadata": {
        "colab": {
          "base_uri": "https://localhost:8080/"
        },
        "id": "tKC145G3bl3D",
        "outputId": "0ed9376a-cb8b-41eb-f99c-3a071f557a21"
      },
      "execution_count": 2,
      "outputs": [
        {
          "output_type": "stream",
          "name": "stdout",
          "text": [
            "<class 'int'>\n",
            "<class 'float'>\n",
            "<class 'str'>\n",
            "<class 'bool'>\n"
          ]
        }
      ]
    },
    {
      "cell_type": "code",
      "source": [
        "a=45\n",
        "b='sam'\n",
        "c=4>3   ###a,b,c = variable"
      ],
      "metadata": {
        "id": "1x4DIUfjeE7U"
      },
      "execution_count": 3,
      "outputs": []
    },
    {
      "cell_type": "code",
      "source": [
        "#input() ===> this is a pre-defined function of python in which it will take\n",
        "#query from a user and its output will be in string format."
      ],
      "metadata": {
        "id": "irZDIUiqflht"
      },
      "execution_count": null,
      "outputs": []
    },
    {
      "cell_type": "code",
      "source": [
        "a='12'\n",
        "type(a)"
      ],
      "metadata": {
        "colab": {
          "base_uri": "https://localhost:8080/"
        },
        "id": "uNVElg-_e5R7",
        "outputId": "122ee1e6-9c13-4348-94aa-cf3b870733a9"
      },
      "execution_count": 4,
      "outputs": [
        {
          "output_type": "execute_result",
          "data": {
            "text/plain": [
              "str"
            ]
          },
          "metadata": {},
          "execution_count": 4
        }
      ]
    },
    {
      "cell_type": "code",
      "source": [
        "a = '12'\n",
        "b = '34'\n",
        "c=a+b\n",
        "c"
      ],
      "metadata": {
        "colab": {
          "base_uri": "https://localhost:8080/",
          "height": 35
        },
        "id": "X2UKOtFNfBTj",
        "outputId": "c24312c4-255b-4300-a276-add3334afff5"
      },
      "execution_count": 5,
      "outputs": [
        {
          "output_type": "execute_result",
          "data": {
            "text/plain": [
              "'1234'"
            ],
            "application/vnd.google.colaboratory.intrinsic+json": {
              "type": "string"
            }
          },
          "metadata": {},
          "execution_count": 5
        }
      ]
    },
    {
      "cell_type": "code",
      "source": [
        "a=input(\"Enter first number: \")\n",
        "b=input(\"enter second number: \")\n",
        "c=a+b\n",
        "c"
      ],
      "metadata": {
        "colab": {
          "base_uri": "https://localhost:8080/",
          "height": 70
        },
        "id": "d67gi22GfOVW",
        "outputId": "b3cdea44-7e73-4d83-d152-0f9a61a60cd3"
      },
      "execution_count": 6,
      "outputs": [
        {
          "name": "stdout",
          "output_type": "stream",
          "text": [
            "Enter first number: 12\n",
            "enter second number: 34\n"
          ]
        },
        {
          "output_type": "execute_result",
          "data": {
            "text/plain": [
              "'1234'"
            ],
            "application/vnd.google.colaboratory.intrinsic+json": {
              "type": "string"
            }
          },
          "metadata": {},
          "execution_count": 6
        }
      ]
    },
    {
      "cell_type": "code",
      "source": [
        "#type-casting ===> Using this method, we can convert one data type to another\n",
        "#data type"
      ],
      "metadata": {
        "id": "NR62gk99gdzJ"
      },
      "execution_count": 7,
      "outputs": []
    },
    {
      "cell_type": "code",
      "source": [
        "a=int(67.89)\n",
        "a"
      ],
      "metadata": {
        "colab": {
          "base_uri": "https://localhost:8080/"
        },
        "id": "PyqDfSxohCpP",
        "outputId": "d89681bd-7c40-43d4-8616-2f2d773a0437"
      },
      "execution_count": 9,
      "outputs": [
        {
          "output_type": "execute_result",
          "data": {
            "text/plain": [
              "67"
            ]
          },
          "metadata": {},
          "execution_count": 9
        }
      ]
    },
    {
      "cell_type": "code",
      "source": [
        "a=int(input(\"Enter first number: \"))\n",
        "b=int(input(\"Enter second number: \"))\n",
        "c=a+b\n",
        "c"
      ],
      "metadata": {
        "colab": {
          "base_uri": "https://localhost:8080/"
        },
        "id": "a4WQvrizhSF0",
        "outputId": "f79c38f5-eb14-46dd-d002-46d40a17fa5a"
      },
      "execution_count": 10,
      "outputs": [
        {
          "name": "stdout",
          "output_type": "stream",
          "text": [
            "Enter first number: 12\n",
            "Enter second number: 34\n"
          ]
        },
        {
          "output_type": "execute_result",
          "data": {
            "text/plain": [
              "46"
            ]
          },
          "metadata": {},
          "execution_count": 10
        }
      ]
    },
    {
      "cell_type": "code",
      "source": [
        "#print() ===>It will execute our query on terminal.\n",
        "print(45)\n",
        "print('Sakshi')"
      ],
      "metadata": {
        "colab": {
          "base_uri": "https://localhost:8080/"
        },
        "id": "ROdZXLirh_uA",
        "outputId": "b01ece7b-ae1d-4710-c880-19fb7e6f706f"
      },
      "execution_count": 11,
      "outputs": [
        {
          "output_type": "stream",
          "name": "stdout",
          "text": [
            "45\n",
            "Sakshi\n"
          ]
        }
      ]
    },
    {
      "cell_type": "code",
      "source": [
        "a=4\n",
        "b=5\n",
        "print(a,b)\n",
        "a=100\n",
        "print(a,b)"
      ],
      "metadata": {
        "colab": {
          "base_uri": "https://localhost:8080/"
        },
        "id": "PVH3a60ikUFk",
        "outputId": "7731a7a8-15c4-445b-888f-ef674c5655b2"
      },
      "execution_count": 13,
      "outputs": [
        {
          "output_type": "stream",
          "name": "stdout",
          "text": [
            "4 5\n",
            "100 5\n"
          ]
        }
      ]
    },
    {
      "cell_type": "code",
      "source": [
        "#mostly used operators in python\n",
        "#1. addition(+) ==> 5+3=8\n",
        "#2. subtraction(-) ==> 3-1=2\n",
        "#3. multiplication(*) ==> 5*3=15\n",
        "#4. ddivision(/) ==> 5/2=2.5\n",
        "#5. floor division(//) ==> 5//2=1\n",
        "#6. module(%)==> for remainder calculation==>25%10=5(remainder)\n",
        "#7. equal to(=) ==> for values assignment ==> a=5. b=10\n",
        "#8. equal equal to(==) ==> for values comparison ==> a==b, 4==5\n",
        "#9. not equal to(!=) 4!=5\n",
        "#10. greater than(>)==> 5>4\n",
        "# (11). greater than or equal to (>=) ==> 5>=5\n",
        "# (12). less than (<) ===> 3<4\n",
        "# (13). less than or equal to(<=) ===> 3<=3"
      ],
      "metadata": {
        "id": "W2t7sN5OkiJa"
      },
      "execution_count": null,
      "outputs": []
    },
    {
      "cell_type": "code",
      "source": [
        "#conditional statements\n",
        "\n",
        "#(1). if\n",
        "#(2). elif\n",
        "#(3). else"
      ],
      "metadata": {
        "id": "n1fLnJqcmqns"
      },
      "execution_count": null,
      "outputs": []
    },
    {
      "cell_type": "code",
      "source": [
        "a = \"jod\"\n",
        "if a == \"jod\":\n",
        "    print(\"yes\")\n",
        "elif a == \"dog\":\n",
        "    print(\"no\")\n",
        "elif a == \"god\":\n",
        "    print(\"ok\")\n",
        "else:\n",
        "    print(\"try again\")"
      ],
      "metadata": {
        "colab": {
          "base_uri": "https://localhost:8080/"
        },
        "id": "7ub_sY8Am4I0",
        "outputId": "8f8f5b00-16b2-4169-e44d-b4a685d2c52b"
      },
      "execution_count": 14,
      "outputs": [
        {
          "output_type": "stream",
          "name": "stdout",
          "text": [
            "yes\n"
          ]
        }
      ]
    },
    {
      "cell_type": "code",
      "source": [
        "a = input(\"enter your name:\")\n",
        "if a == \"jod\":         #if a == \"jod\":\n",
        "    print(\"yes\")\n",
        "elif a == \"dog\":\n",
        "    print(\"no\")\n",
        "elif a == \"god\":\n",
        "    print(\"ok\")\n",
        "else:\n",
        "    print(\"try again\")"
      ],
      "metadata": {
        "colab": {
          "base_uri": "https://localhost:8080/"
        },
        "id": "MeEME6kRoH8V",
        "outputId": "6d4897cd-93f1-4cf8-e7b4-cd434760d317"
      },
      "execution_count": 18,
      "outputs": [
        {
          "output_type": "stream",
          "name": "stdout",
          "text": [
            "enter your name:jod\n",
            "yes\n"
          ]
        }
      ]
    },
    {
      "cell_type": "code",
      "source": [
        "#Q.2\n",
        "a=int(input(\"Enter your age:\"))\n",
        "if(0<=a<=19):\n",
        "  print(\"teenage\")\n",
        "elif(20<=a<=35):\n",
        "    print(\"Young\")\n",
        "elif(35<=a<=90):\n",
        "      print(\"Old\")\n",
        "else:\n",
        "        print(\"please enter a valid age...\")"
      ],
      "metadata": {
        "colab": {
          "base_uri": "https://localhost:8080/"
        },
        "id": "AJ8f2ac-oQNV",
        "outputId": "4bc7af3a-3f33-4f4c-96d2-ff3c0dea627c"
      },
      "execution_count": 20,
      "outputs": [
        {
          "output_type": "stream",
          "name": "stdout",
          "text": [
            "Enter your age:21\n",
            "Young\n"
          ]
        }
      ]
    },
    {
      "cell_type": "code",
      "source": [
        "#NESTED CONDITIONAL STATEMENTS"
      ],
      "metadata": {
        "id": "WNiNw3JQpzuL"
      },
      "execution_count": 21,
      "outputs": []
    },
    {
      "cell_type": "code",
      "source": [
        "a=int(input(\"enter number:\"))\n",
        "if(0<=a<=30):\n",
        "  print(\"your RTO information\")\n",
        "if(18<=a<=28):\n",
        " if(a==25):\n",
        "  print(\"you won a scratch coopan....\")\n",
        "  print(\"you can drive\")\n",
        "else:\n",
        " print(\"you can't drive\")"
      ],
      "metadata": {
        "colab": {
          "base_uri": "https://localhost:8080/"
        },
        "id": "EGDCesBjqepO",
        "outputId": "6b6cf29e-0c9e-4c72-db15-1adb719110f8"
      },
      "execution_count": 24,
      "outputs": [
        {
          "output_type": "stream",
          "name": "stdout",
          "text": [
            "enter number:21\n",
            "your RTO information\n"
          ]
        }
      ]
    },
    {
      "cell_type": "code",
      "source": [
        "#method - 1\n",
        "a=\"sakshi\"\n",
        "for i in a:\n",
        "  print(i)"
      ],
      "metadata": {
        "colab": {
          "base_uri": "https://localhost:8080/"
        },
        "id": "gX_xsvFJrsSn",
        "outputId": "2eaca29c-4e60-4492-b9db-7b50fc774a0c"
      },
      "execution_count": 27,
      "outputs": [
        {
          "output_type": "stream",
          "name": "stdout",
          "text": [
            "s\n",
            "a\n",
            "k\n",
            "s\n",
            "h\n",
            "i\n"
          ]
        }
      ]
    },
    {
      "cell_type": "code",
      "source": [
        "a=\"sakshi\"\n",
        "for i in a:\n",
        "  print(i,end=\" \")"
      ],
      "metadata": {
        "colab": {
          "base_uri": "https://localhost:8080/"
        },
        "id": "oJP9ENvfsWMQ",
        "outputId": "96376951-c3c5-4c39-bdf8-8125313aeec8"
      },
      "execution_count": 28,
      "outputs": [
        {
          "output_type": "stream",
          "name": "stdout",
          "text": [
            "s a k s h i "
          ]
        }
      ]
    },
    {
      "cell_type": "code",
      "source": [
        "#method 3\n",
        "a=\"sakshi\"\n",
        "len(a)"
      ],
      "metadata": {
        "colab": {
          "base_uri": "https://localhost:8080/"
        },
        "id": "o3r66glXsj_S",
        "outputId": "30569977-175f-44fc-8901-93edf26ea001"
      },
      "execution_count": 29,
      "outputs": [
        {
          "output_type": "execute_result",
          "data": {
            "text/plain": [
              "6"
            ]
          },
          "metadata": {},
          "execution_count": 29
        }
      ]
    },
    {
      "cell_type": "code",
      "source": [
        "for i in range(len(a)):\n",
        "  print(a[i])"
      ],
      "metadata": {
        "colab": {
          "base_uri": "https://localhost:8080/"
        },
        "id": "rFq81E0fs8cz",
        "outputId": "f1555112-74d8-479d-c8f8-68e0b8f58631"
      },
      "execution_count": 30,
      "outputs": [
        {
          "output_type": "stream",
          "name": "stdout",
          "text": [
            "s\n",
            "a\n",
            "k\n",
            "s\n",
            "h\n",
            "i\n"
          ]
        }
      ]
    },
    {
      "cell_type": "code",
      "source": [
        "#method 4\n",
        "#start_index_value(include) and last_index_value(exclude)\n",
        "\n",
        "#for i in range(start, last, step_value):print(i)"
      ],
      "metadata": {
        "id": "pJ9q9XXctOnu"
      },
      "execution_count": 31,
      "outputs": []
    },
    {
      "cell_type": "code",
      "source": [
        "for i in range(0,len(a)):\n",
        "  print(a[i])"
      ],
      "metadata": {
        "colab": {
          "base_uri": "https://localhost:8080/"
        },
        "id": "hSx3o1HOtt_s",
        "outputId": "35667dd0-6ca3-4897-b21c-e106003b8923"
      },
      "execution_count": 32,
      "outputs": [
        {
          "output_type": "stream",
          "name": "stdout",
          "text": [
            "s\n",
            "a\n",
            "k\n",
            "s\n",
            "h\n",
            "i\n"
          ]
        }
      ]
    },
    {
      "cell_type": "code",
      "source": [
        "for i in range(1,10,2):\n",
        "  print(i)"
      ],
      "metadata": {
        "colab": {
          "base_uri": "https://localhost:8080/"
        },
        "id": "DsHb7hTzt06N",
        "outputId": "5f018235-97a2-4301-c128-70589db59ca6"
      },
      "execution_count": 34,
      "outputs": [
        {
          "output_type": "stream",
          "name": "stdout",
          "text": [
            "1\n",
            "3\n",
            "5\n",
            "7\n",
            "9\n"
          ]
        }
      ]
    },
    {
      "cell_type": "code",
      "source": [
        "#while loop\n",
        "\n",
        "#(a). initialization\n",
        "#(b). condition\n",
        "#(c). Increment or decrement"
      ],
      "metadata": {
        "id": "ZLV4xmjOuC7Y"
      },
      "execution_count": 35,
      "outputs": []
    },
    {
      "cell_type": "code",
      "source": [
        "# Q-1) write a program which prints from 1 to 3?"
      ],
      "metadata": {
        "id": "v8Qv1HczvQjC"
      },
      "execution_count": 36,
      "outputs": []
    },
    {
      "cell_type": "code",
      "source": [
        "i=1   ##initailiztion\n",
        "n=3\n",
        "while(i<=n): ## condition\n",
        "    print(i)\n",
        "    i = i +1    ## increment"
      ],
      "metadata": {
        "colab": {
          "base_uri": "https://localhost:8080/"
        },
        "id": "HV_OEI3pvTnD",
        "outputId": "a9de35d7-fceb-451e-92c2-b415bc5bfbd0"
      },
      "execution_count": 37,
      "outputs": [
        {
          "output_type": "stream",
          "name": "stdout",
          "text": [
            "1\n",
            "2\n",
            "3\n"
          ]
        }
      ]
    },
    {
      "cell_type": "code",
      "source": [
        "# step-1 (i = 1, n = 3)\n",
        "#while(1<=3):\n",
        "#    print(1)\n",
        "#   i = 1+1 = 2\n",
        "\n",
        "#step-2 (i=2, n =3)\n",
        "# while(2<=3):\n",
        "# print(2)\n",
        "# i=3+1 = 4\n",
        "\n",
        "# step-3 (i=3 , n=3)\n",
        "#while(3<=3):\n",
        "#print(3)\n",
        "#i =3+1 = 4\n",
        "\n",
        "# step-4 (i=4,n=3)\n",
        "#while(4<=3):\n",
        "#break"
      ],
      "metadata": {
        "id": "l8uStb7BvYZq"
      },
      "execution_count": 38,
      "outputs": []
    },
    {
      "cell_type": "code",
      "source": [
        "i=1\n",
        "n=4\n",
        "sum=0\n",
        "while(i<=n):\n",
        "  sum=sum+i\n",
        "  i=i+1\n",
        "print(sum)"
      ],
      "metadata": {
        "colab": {
          "base_uri": "https://localhost:8080/"
        },
        "id": "Z3v9-fGqxdKP",
        "outputId": "16cd58b8-0715-4ad9-d026-609d18f5feca"
      },
      "execution_count": 39,
      "outputs": [
        {
          "output_type": "stream",
          "name": "stdout",
          "text": [
            "10\n"
          ]
        }
      ]
    },
    {
      "cell_type": "code",
      "source": [
        "#  step-1 (i=1, n=4, sum =0)\n",
        "# while(1<=4)\n",
        "#  sum = 0+1 =1\n",
        "# i= 1+1+=2\n",
        "\n",
        "# step -2 (i=2, n=4, sum =1)\n",
        "# while(2<=4):\n",
        "#     sum=1+2=3\n",
        "#     i= 2+1 = 3\n",
        "\n",
        "#step -3 (i=3, n=4, sum=3)\n",
        "# while(3<=4):\n",
        "#     sum=3+3=6\n",
        "#     i= 3+1=4\n",
        "\n",
        "#step-4 (i=4, n=4, sum=6)\n",
        "# while(4<=4):\n",
        "#     sum=6+4=10\n",
        "#     i= 4+1=5\n",
        "\n",
        "# Final output ====> sum = 10"
      ],
      "metadata": {
        "id": "meokSDi60Akr"
      },
      "execution_count": 41,
      "outputs": []
    },
    {
      "cell_type": "code",
      "source": [
        "#Q.3\n",
        "# 4\n",
        "# 3\n",
        "# 2\n",
        "# 1"
      ],
      "metadata": {
        "id": "LCnipqTU0Qaj"
      },
      "execution_count": 42,
      "outputs": []
    },
    {
      "cell_type": "code",
      "source": [
        "i = 4\n",
        "\n",
        "while i >= 1:\n",
        "    print(i)\n",
        "    i = i - 1"
      ],
      "metadata": {
        "colab": {
          "base_uri": "https://localhost:8080/"
        },
        "id": "g2TYGn5n2jFT",
        "outputId": "01cd5714-bba3-45f1-a980-88a2701c7a1e"
      },
      "execution_count": 54,
      "outputs": [
        {
          "output_type": "stream",
          "name": "stdout",
          "text": [
            "4\n",
            "3\n",
            "2\n",
            "1\n"
          ]
        }
      ]
    },
    {
      "cell_type": "code",
      "source": [
        "#Q.4\n",
        "# a=1234\n",
        "# odd 1+3=4\n",
        "# even 2+4=6"
      ],
      "metadata": {
        "id": "ovW4JZsA1QUA"
      },
      "execution_count": 50,
      "outputs": []
    },
    {
      "cell_type": "code",
      "source": [
        "a = input(\"Enter a number: \")\n",
        "odd = 0\n",
        "even = 0\n",
        "\n",
        "for digit in a:\n",
        "    if int(digit) % 2 == 0:\n",
        "        even += int(digit)\n",
        "    else:\n",
        "        odd += int(digit)\n",
        "\n",
        "print(\"Sum of odd digits:\", odd)\n",
        "print(\"Sum of even digits:\", even)"
      ],
      "metadata": {
        "colab": {
          "base_uri": "https://localhost:8080/"
        },
        "id": "T2gHQrz41BtP",
        "outputId": "afc02561-de4a-4490-e7a3-17e35b0db128"
      },
      "execution_count": 51,
      "outputs": [
        {
          "output_type": "stream",
          "name": "stdout",
          "text": [
            "Enter a number: 1234\n",
            "Sum of odd digits: 4\n",
            "Sum of even digits: 6\n"
          ]
        }
      ]
    },
    {
      "cell_type": "code",
      "source": [
        "# a = 123 ===> reverse ===>321"
      ],
      "metadata": {
        "id": "Mr74zd2U25Nz"
      },
      "execution_count": 56,
      "outputs": []
    },
    {
      "cell_type": "code",
      "source": [
        "a = int(input(\"Enter a number: \"))\n",
        "reverse = 0\n",
        "\n",
        "while a != 0:\n",
        "    digit = a % 10\n",
        "    reverse = reverse * 10 + digit\n",
        "    a = a // 10\n",
        "\n",
        "print(\"Reversed number:\", reverse)"
      ],
      "metadata": {
        "colab": {
          "base_uri": "https://localhost:8080/"
        },
        "id": "-3Yp7RGK3KRw",
        "outputId": "ed63223d-8d10-443a-abe9-46fe63391b35"
      },
      "execution_count": 57,
      "outputs": [
        {
          "output_type": "stream",
          "name": "stdout",
          "text": [
            "Enter a number: 123\n",
            "Reversed number: 321\n"
          ]
        }
      ]
    },
    {
      "cell_type": "code",
      "source": [
        "for i in range(1,6):\n",
        " print(i*'*')"
      ],
      "metadata": {
        "colab": {
          "base_uri": "https://localhost:8080/"
        },
        "id": "6lCDa_oN4MQ6",
        "outputId": "0bcca6c8-800e-4db0-eccb-7fe6490eb8c7"
      },
      "execution_count": 2,
      "outputs": [
        {
          "output_type": "stream",
          "name": "stdout",
          "text": [
            "*\n",
            "**\n",
            "***\n",
            "****\n",
            "*****\n"
          ]
        }
      ]
    },
    {
      "cell_type": "code",
      "source": [
        "for i in range(0,3):\n",
        "  for j in range(0,2):\n",
        "    print(\"i=\", i , \"j=\",j)"
      ],
      "metadata": {
        "colab": {
          "base_uri": "https://localhost:8080/"
        },
        "id": "JjdudhBpJEvl",
        "outputId": "a133a47d-826c-4d99-e57a-c6df895ff2d4"
      },
      "execution_count": 4,
      "outputs": [
        {
          "output_type": "stream",
          "name": "stdout",
          "text": [
            "i= 0 j= 0\n",
            "i= 0 j= 1\n",
            "i= 1 j= 0\n",
            "i= 1 j= 1\n",
            "i= 2 j= 0\n",
            "i= 2 j= 1\n"
          ]
        }
      ]
    },
    {
      "cell_type": "code",
      "source": [
        "#functions in python\n",
        "# (1). pre-defined functions = print(), input(), min(), sort()\n",
        "# (2). manually created functions\n",
        "# (a). def\n",
        "# (b). name_of_function\n",
        "# (c). logics\n",
        "# (d). call_the_function"
      ],
      "metadata": {
        "id": "X1bvoEEjJpHA"
      },
      "execution_count": 5,
      "outputs": []
    },
    {
      "cell_type": "code",
      "source": [
        "#Create a function who add two numbers?\n",
        "\n",
        "def my_add():\n",
        "  a=5\n",
        "  b=6\n",
        "  c=a+b\n",
        "  print(\"Add=\",c)\n",
        "my_add()"
      ],
      "metadata": {
        "colab": {
          "base_uri": "https://localhost:8080/"
        },
        "id": "Pl3xX8LQK9Ca",
        "outputId": "d281524e-eed4-4500-bdd5-44ad816d46e3"
      },
      "execution_count": 7,
      "outputs": [
        {
          "output_type": "stream",
          "name": "stdout",
          "text": [
            "Add= 11\n"
          ]
        }
      ]
    },
    {
      "cell_type": "code",
      "source": [
        "#arguments and parameters ===>\n",
        "#parameters ==> these are the values which we passes when we create a function."
      ],
      "metadata": {
        "id": "lXjt4zk1LZ-X"
      },
      "execution_count": 8,
      "outputs": []
    },
    {
      "cell_type": "code",
      "source": [
        "#arguments ==> these are the values which we passes when we call the function."
      ],
      "metadata": {
        "id": "v5Y6JDyiL2Le"
      },
      "execution_count": 9,
      "outputs": []
    },
    {
      "cell_type": "code",
      "source": [
        "def my_add(a,b):\n",
        "  c=a+b\n",
        "  print(\"Add=\",c)\n",
        "my_add(4,5)\n",
        "\n",
        "###(a,b) --> parameters , (4,5) ---> arguments"
      ],
      "metadata": {
        "colab": {
          "base_uri": "https://localhost:8080/"
        },
        "id": "m6hlMspeMCWz",
        "outputId": "f65d5a12-c348-4c91-a474-68889bef2260"
      },
      "execution_count": 10,
      "outputs": [
        {
          "output_type": "stream",
          "name": "stdout",
          "text": [
            "Add= 9\n"
          ]
        }
      ]
    },
    {
      "cell_type": "code",
      "source": [
        "#Lambda function ==>  a lambda function ca take any number of arguments\n",
        "#but can only have one expression.\n",
        "#syntax : Lambda arguments : expression\n",
        "#Ex.1\n",
        "x=lambda a:a+10\n",
        "print(\"Total value=\", x(2))\n",
        "\n",
        "#Ex.2\n",
        "x=lambda a,b:a*b\n",
        "print(\"Total product is=\", x(3,4))\n",
        "\n",
        "#Ex.3\n",
        "x=lambda a,b,c:a+b+c\n",
        "print(\"Total =\", x(4,5,6))"
      ],
      "metadata": {
        "colab": {
          "base_uri": "https://localhost:8080/"
        },
        "id": "gzlQdRa4MZDx",
        "outputId": "a538b8c9-b070-45b4-db25-dae2a694b359"
      },
      "execution_count": 11,
      "outputs": [
        {
          "output_type": "stream",
          "name": "stdout",
          "text": [
            "Total value= 12\n",
            "Total product is= 12\n",
            "Total = 15\n"
          ]
        }
      ]
    },
    {
      "cell_type": "code",
      "source": [
        "a = [1,1,1,2,3,3,3,3,1,45,67,44,99,5,5,5,5,0]\n",
        "b=[]\n"
      ],
      "metadata": {
        "id": "y7e-IqEYP3Sa"
      },
      "execution_count": 19,
      "outputs": []
    },
    {
      "cell_type": "code",
      "source": [
        "for i in range(len(a)):\n",
        "    if(a.count(a[i])==1):\n",
        "        b.append(a[i])\n",
        "print(b)\n"
      ],
      "metadata": {
        "colab": {
          "base_uri": "https://localhost:8080/"
        },
        "id": "bH8OM7xON6R4",
        "outputId": "bebcd7c0-af11-4cf0-87d9-32579e128718"
      },
      "execution_count": 20,
      "outputs": [
        {
          "output_type": "stream",
          "name": "stdout",
          "text": [
            "[2, 45, 67, 44, 99, 0]\n"
          ]
        }
      ]
    },
    {
      "cell_type": "code",
      "source": [
        "ages=[5,12,17,18,34,67,50]\n",
        "def myFunc(x):\n",
        "  if (x <= 18):\n",
        "    return True\n",
        "  else:\n",
        "    return False\n",
        "\n",
        "kid = list(filter(myFunc, ages))\n",
        "print(kid)"
      ],
      "metadata": {
        "colab": {
          "base_uri": "https://localhost:8080/"
        },
        "id": "SVIRgGV3P08x",
        "outputId": "1a037a7b-2f6e-4865-a7a8-d88dbe408a34"
      },
      "execution_count": 23,
      "outputs": [
        {
          "output_type": "stream",
          "name": "stdout",
          "text": [
            "[5, 12, 17, 18]\n"
          ]
        }
      ]
    },
    {
      "cell_type": "code",
      "source": [],
      "metadata": {
        "id": "QCqynvKqSgNU"
      },
      "execution_count": null,
      "outputs": []
    }
  ]
}